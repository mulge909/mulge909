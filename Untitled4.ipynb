{
  "nbformat": 4,
  "nbformat_minor": 0,
  "metadata": {
    "colab": {
      "provenance": [],
      "authorship_tag": "ABX9TyNbBrf/y/IiOw/tEJL5zC16",
      "include_colab_link": true
    },
    "kernelspec": {
      "name": "python3",
      "display_name": "Python 3"
    },
    "language_info": {
      "name": "python"
    }
  },
  "cells": [
    {
      "cell_type": "markdown",
      "metadata": {
        "id": "view-in-github",
        "colab_type": "text"
      },
      "source": [
        "<a href=\"https://colab.research.google.com/github/mulge909/mulge909/blob/main/Untitled4.ipynb\" target=\"_parent\"><img src=\"https://colab.research.google.com/assets/colab-badge.svg\" alt=\"Open In Colab\"/></a>"
      ]
    },
    {
      "cell_type": "code",
      "execution_count": null,
      "metadata": {
        "id": "fF66FpGP38qG"
      },
      "outputs": [],
      "source": [
        "a=int(input(\"enter the 1st number\"))\n",
        "b=int(input(\"enter the 2nd number\"))\n",
        "o=str(input(\"enter the operator+,-,*,/\"))\n",
        "if(o==\"-\"):\n",
        "  print(\"differenceof nuns =\",a-b)\n",
        "elif(o==\"*\"):\n",
        "  print(\"product of a b is\",a*b)\n",
        "elif(o==\"+\"):\n",
        "  print(\"sum of a b is\",a+b)\n",
        "elif(o==\"/\"):\n",
        "  print(\"division of a b\",a/b)"
      ]
    }
  ]
}